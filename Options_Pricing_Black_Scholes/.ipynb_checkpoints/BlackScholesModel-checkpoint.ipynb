{
 "cells": [
  {
   "cell_type": "markdown",
   "metadata": {},
   "source": [
    "### CIS 4360 Computational Methods in Finance"
   ]
  },
  {
   "cell_type": "code",
   "execution_count": 14,
   "metadata": {},
   "outputs": [],
   "source": [
    "import math\n",
    "import pandas as pd\n",
    "import numpy as np\n",
    "import seaborn as sns\n",
    "import plotly.express as px\n",
    "from scipy.stats import skew, kurtosis\n",
    "from math import log, exp, sqrt, pow"
   ]
  },
  {
   "cell_type": "markdown",
   "metadata": {},
   "source": [
    "**Property of normal distribution**"
   ]
  },
  {
   "cell_type": "markdown",
   "metadata": {},
   "source": [
    "$$ ln S_T \\sim \\phi \\left[ ln S_0 + \\left(\\mu - \\frac{\\sigma^2}{2}\\right) T, \\sigma^2 T\\right]$$"
   ]
  },
  {
   "cell_type": "markdown",
   "metadata": {},
   "source": [
    "**There is a 95% probability that a normal variable will fall within 1.96 standard deviations**"
   ]
  },
  {
   "cell_type": "markdown",
   "metadata": {},
   "source": [
    "**The 95% confidence interval of the normal variable will be between (mean - 1.96 stdev) and (mean+1.96 stdev)**  "
   ]
  },
  {
   "cell_type": "markdown",
   "metadata": {},
   "source": [
    "## Example 15.1"
   ]
  },
  {
   "cell_type": "markdown",
   "metadata": {},
   "source": [
    "**Consider a stock with an initial price of 40, an expected return of 16\\% per annum, and a volatility of 20%. What is the 95% confidence interval of the stock price in 6 months?**"
   ]
  },
  {
   "cell_type": "code",
   "execution_count": 15,
   "metadata": {},
   "outputs": [],
   "source": [
    "# Example 15.1\n",
    "S0 = 40\n",
    "mu = 0.16\n",
    "sigma = 0.2\n",
    "T = 6/12"
   ]
  },
  {
   "cell_type": "code",
   "execution_count": 16,
   "metadata": {},
   "outputs": [
    {
     "name": "stdout",
     "output_type": "stream",
     "text": [
      "3.758879454113936 0.14142135623730953\n"
     ]
    }
   ],
   "source": [
    "mean = log(S0) + (mu - pow(sigma, 2)/2)*T\n",
    "stdev = sigma * sqrt(T)\n",
    "print(mean, stdev)"
   ]
  },
  {
   "cell_type": "code",
   "execution_count": 17,
   "metadata": {},
   "outputs": [
    {
     "name": "stdout",
     "output_type": "stream",
     "text": [
      "32.51474230558975 56.603188205344175\n"
     ]
    }
   ],
   "source": [
    "lower_bound = exp(mean - 1.96*stdev)\n",
    "upper_bound = exp(mean + 1.96*stdev)\n",
    "print(lower_bound, upper_bound)"
   ]
  },
  {
   "cell_type": "markdown",
   "metadata": {},
   "source": [
    "## Example 15.6"
   ]
  },
  {
   "cell_type": "markdown",
   "metadata": {},
   "source": [
    "**The stock price 6 months from the expiration of an option is 42, exercise price of the option is 40, risk-free rate is 10% and volatility is 20%. What should be the call and put priced at?**"
   ]
  },
  {
   "cell_type": "code",
   "execution_count": 18,
   "metadata": {},
   "outputs": [],
   "source": [
    "from scipy.stats import norm"
   ]
  },
  {
   "cell_type": "code",
   "execution_count": 19,
   "metadata": {},
   "outputs": [],
   "source": [
    "S0 = 42\n",
    "K = 40\n",
    "r = 0.1\n",
    "sigma = 0.2\n",
    "T = 0.5"
   ]
  },
  {
   "cell_type": "code",
   "execution_count": 29,
   "metadata": {},
   "outputs": [
    {
     "name": "stdout",
     "output_type": "stream",
     "text": [
      "0.7692626281060315 0.6278412718687221\n"
     ]
    }
   ],
   "source": [
    "d1 = (log(S0/K)+(r + sigma**2/2)*T)/(sigma * sqrt(T))\n",
    "d2 = (log(S0/K)+(r - sigma**2/2)*T)/(sigma * sqrt(T))\n",
    "print(d1, d2)"
   ]
  },
  {
   "cell_type": "code",
   "execution_count": 30,
   "metadata": {},
   "outputs": [
    {
     "name": "stdout",
     "output_type": "stream",
     "text": [
      "4.759422392871532\n"
     ]
    }
   ],
   "source": [
    "c = S0* norm.cdf(d1) - K*exp(-r*T)*norm.cdf(d2)\n",
    "print(c)"
   ]
  },
  {
   "cell_type": "code",
   "execution_count": 31,
   "metadata": {},
   "outputs": [],
   "source": [
    "p = K * exp(-r*T)*norm.cdf(-d2) - S0*norm.cdf(-d1)"
   ]
  },
  {
   "cell_type": "code",
   "execution_count": 32,
   "metadata": {},
   "outputs": [
    {
     "data": {
      "text/plain": [
       "0.8085993729000922"
      ]
     },
     "execution_count": 32,
     "metadata": {},
     "output_type": "execute_result"
    }
   ],
   "source": [
    "p"
   ]
  },
  {
   "cell_type": "markdown",
   "metadata": {},
   "source": [
    "### Now let's compare that with your Black-Schole Model Implementation"
   ]
  },
  {
   "cell_type": "markdown",
   "metadata": {},
   "source": [
    "***That is, use your OO Black-Scholes model implementation to calculate the price of the above options. Make sure they reproduce the same answer***"
   ]
  },
  {
   "cell_type": "markdown",
   "metadata": {},
   "source": [
    "***Import your library***"
   ]
  },
  {
   "cell_type": "code",
   "execution_count": 24,
   "metadata": {
    "scrolled": true
   },
   "outputs": [],
   "source": [
    "from blackscholes_model import BlackScholesModel"
   ]
  },
  {
   "cell_type": "markdown",
   "metadata": {},
   "source": [
    "***Question 1: First create a Stock object with the spot_price and the sigma***"
   ]
  },
  {
   "cell_type": "code",
   "execution_count": 25,
   "metadata": {},
   "outputs": [],
   "source": [
    "# Type your code here\n",
    "from stock import Stock\n",
    "# stock = Stock(...)"
   ]
  },
  {
   "cell_type": "markdown",
   "metadata": {},
   "source": [
    "***Question 2: Create instance of the model***"
   ]
  },
  {
   "cell_type": "code",
   "execution_count": 26,
   "metadata": {},
   "outputs": [],
   "source": [
    "# Type your code here"
   ]
  },
  {
   "cell_type": "markdown",
   "metadata": {},
   "source": [
    "***Question 3: Now call your model calc_model_price to calculate the above options***"
   ]
  },
  {
   "cell_type": "code",
   "execution_count": 27,
   "metadata": {},
   "outputs": [],
   "source": [
    "# Type your code here"
   ]
  },
  {
   "cell_type": "markdown",
   "metadata": {},
   "source": [
    "***Question 4: Now call your model to calculate ALL the greeks for both options***"
   ]
  },
  {
   "cell_type": "code",
   "execution_count": 28,
   "metadata": {},
   "outputs": [],
   "source": [
    "# calc delta, gamma, theta, vega for both the call and the put"
   ]
  }
 ],
 "metadata": {
  "kernelspec": {
   "display_name": "Python 3 (ipykernel)",
   "language": "python",
   "name": "python3"
  },
  "language_info": {
   "codemirror_mode": {
    "name": "ipython",
    "version": 3
   },
   "file_extension": ".py",
   "mimetype": "text/x-python",
   "name": "python",
   "nbconvert_exporter": "python",
   "pygments_lexer": "ipython3",
   "version": "3.9.13"
  }
 },
 "nbformat": 4,
 "nbformat_minor": 2
}
